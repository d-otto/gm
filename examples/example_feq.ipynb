{
 "cells": [
  {
   "cell_type": "code",
   "execution_count": null,
   "outputs": [],
   "source": [
    "import numpy as np\n",
    "import matplotlib as mpl\n",
    "import matplotlib.pyplot as plt\n",
    "\n",
    "from gm import gm3s\n",
    "\n",
    "\n",
    "# Define the analytical solution for feq in response to a constant warming trend\n",
    "# (Christain et al., 2018)\n",
    "\n",
    "def calc_feq(t, tau):\n",
    "    eps = 1 / np.sqrt(3)\n",
    "    feq = (1\n",
    "           - (3 * eps * tau) / t * (1 - np.exp(-t / (eps * tau)))\n",
    "           + np.exp(-t / (eps * tau)) * (t / (2 * eps * tau) + 2))\n",
    "    return feq\n"
   ],
   "metadata": {
    "collapsed": false,
    "is_executing": true
   },
   "id": "2f49896b7530e1cb"
  },
  {
   "cell_type": "code",
   "execution_count": null,
   "outputs": [],
   "source": [
    "t = np.arange(0, 200)\n",
    "melt_factor = -0.65\n",
    "b_p = np.linspace(0, -1, len(t))  # constant warming trend with final value of -1 m/yr\n",
    "b_p = b_p * melt_factor\n",
    "taus = [10, 25, 75]\n",
    "results = {}\n",
    "for tau in taus:\n",
    "    params_3s = dict(\n",
    "        dt=0.01,\n",
    "        Atot=10,\n",
    "        L=10,\n",
    "        H=100,\n",
    "        bt=0,\n",
    "        b_p=b_p,\n",
    "        ts=t,\n",
    "    )\n",
    "    res = gm3s(tau=tau, **params_3s).run()\n",
    "    res.L_p = res.L_p\n",
    "    res.feq = res.L_p / (res.L_eq - res.L_bar)\n",
    "    res.feq = res.feq[::100]  # resample from 20k to 200\n",
    "    res.feq_analytic = calc_feq(t, tau)  # compare w/ analytical result\n",
    "    res.feq_error = np.abs(res.feq_analytic - res.feq)\n",
    "    results[tau] = res  # save to dict\n"
   ],
   "metadata": {
    "collapsed": false
   },
   "id": "b5e39f2ad48d1ff7"
  },
  {
   "cell_type": "code",
   "execution_count": null,
   "outputs": [],
   "source": [
    "fig, ax = plt.subplots(2, 1, layout='constrained')\n",
    "colors = mpl.colormaps['tab10'].colors\n",
    "for i, (tau, res) in enumerate(results.items()):\n",
    "    ax[0].plot(t, res.feq_analytic, ls='--', lw=2, c='black')\n",
    "    ax[0].plot(t, res.feq, label=f'{tau}', lw=2, c=colors[i])\n",
    "    ax[1].plot(t, res.feq_analytic - res.feq, label=f'{tau}')\n",
    "ax[0].legend(title='tau')\n",
    "ax[0].set_ylabel('feq')\n",
    "ax[1].set_ylabel('Error, feq')\n",
    "ax[1].set_xlabel('Year')\n",
    "plt.show()\n"
   ],
   "metadata": {
    "collapsed": false
   },
   "id": "2f1688adaad4e3e2"
  }
 ],
 "metadata": {
  "kernelspec": {
   "display_name": "Python 3",
   "language": "python",
   "name": "python3"
  },
  "language_info": {
   "codemirror_mode": {
    "name": "ipython",
    "version": 2
   },
   "file_extension": ".py",
   "mimetype": "text/x-python",
   "name": "python",
   "nbconvert_exporter": "python",
   "pygments_lexer": "ipython2",
   "version": "2.7.6"
  }
 },
 "nbformat": 4,
 "nbformat_minor": 5
}
